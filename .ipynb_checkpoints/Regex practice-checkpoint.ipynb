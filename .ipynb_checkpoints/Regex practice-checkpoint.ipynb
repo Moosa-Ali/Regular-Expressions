{
 "cells": [
  {
   "cell_type": "markdown",
   "metadata": {},
   "source": [
    "# Regular Expressions in action"
   ]
  },
  {
   "cell_type": "markdown",
   "metadata": {},
   "source": [
    "Import the 're' library that helps in resolving regular expressions in Python"
   ]
  },
  {
   "cell_type": "code",
   "execution_count": 1,
   "metadata": {},
   "outputs": [],
   "source": [
    "import re"
   ]
  },
  {
   "cell_type": "markdown",
   "metadata": {},
   "source": [
    "Regex have the capability to match simple expressions using ordinary characters as well as complex patterns using special characters.\n",
    "\n",
    "- **Ordinary characters include simple alphabets, numbers and symbols.**\n",
    "\n",
    "Ordinary characters are used to get exact matches e.g. if you wanted to wanted to find the occurences of the term 'Python' in some text then your regex would be -->'*Python*'.\n",
    "\n",
    "- **Special characters allow you to create generic pattern in text that are more like a 'Closest match'.**\n",
    "\n",
    "For example if you want to match an email address then you cannot specify an exact match since people have a different emails. However there is a pattern that you can use to your benefit. proper emails will always have an '**@**' symbol in the middle and end with '**.com**'. Let's see how we can find this pattern.\n"
   ]
  },
  {
   "cell_type": "markdown",
   "metadata": {},
   "source": [
    "Generate some random text"
   ]
  },
  {
   "cell_type": "code",
   "execution_count": 6,
   "metadata": {},
   "outputs": [],
   "source": [
    "#random text with emails\n",
    "txt ='''We have contacted Mr. Jhon Doe and havbe confirmed that he will be joining us for the meeting this evening. If you would like to contact him yourself you can call him on +1-415-5552671 or email him at jhon.doe@outlook.com. We also have the contact details of his assistant, you can contact him in case Mr. Doe does not respond. The assistants email id is jack_smith12@outlook.com.'''"
   ]
  },
  {
   "cell_type": "markdown",
   "metadata": {},
   "source": [
    "To find the provided pattern we use the *re.search()* function."
   ]
  },
  {
   "cell_type": "code",
   "execution_count": 7,
   "metadata": {},
   "outputs": [],
   "source": [
    "plain_text = re.search('assistant', txt) #find the word assistant in the above text"
   ]
  },
  {
   "cell_type": "markdown",
   "metadata": {},
   "source": [
    "to find the word 'assistant' we simply used it as an expression.\n",
    "\n",
    "the *re.seach()* function returns the first occurence of th eprovided expresssion as well as its indexes."
   ]
  },
  {
   "cell_type": "code",
   "execution_count": 8,
   "metadata": {},
   "outputs": [
    {
     "data": {
      "text/plain": [
       "<re.Match object; span=(263, 272), match='assistant'>"
      ]
     },
     "execution_count": 8,
     "metadata": {},
     "output_type": "execute_result"
    }
   ],
   "source": [
    "plain_text #print out the result"
   ]
  },
  {
   "cell_type": "code",
   "execution_count": 9,
   "metadata": {},
   "outputs": [
    {
     "name": "stdout",
     "output_type": "stream",
     "text": [
      "assistant\n"
     ]
    }
   ],
   "source": [
    "print(plain_text.group()) #print just the match"
   ]
  },
  {
   "cell_type": "code",
   "execution_count": 10,
   "metadata": {},
   "outputs": [
    {
     "name": "stdout",
     "output_type": "stream",
     "text": [
      "(263, 272)\n"
     ]
    }
   ],
   "source": [
    "print(plain_text.span()) #print indexes where the match was found"
   ]
  },
  {
   "cell_type": "markdown",
   "metadata": {},
   "source": [
    "Now lets try a more complex pattern and find the email addresses in the text"
   ]
  },
  {
   "cell_type": "code",
   "execution_count": 11,
   "metadata": {},
   "outputs": [],
   "source": [
    "email = re.search('\\S+@{1}\\S+[.com]{1}',txt) #regex to find an email address"
   ]
  },
  {
   "cell_type": "code",
   "execution_count": 12,
   "metadata": {},
   "outputs": [
    {
     "name": "stdout",
     "output_type": "stream",
     "text": [
      "<re.Match object; span=(201, 222), match='jhon.doe@outlook.com.'>\n"
     ]
    }
   ],
   "source": [
    "print(email) #found the first occuring email"
   ]
  },
  {
   "cell_type": "markdown",
   "metadata": {},
   "source": [
    "let's understand the regex a little bit.\n",
    "\n",
    "- \\S : Finds a non-whitespace character\n",
    "- \\+ : Specifies to find 1 or more non-whitespace occurences\n",
    "- @ : Exact match, specifies to find a '@' symbol.\n",
    "- {1} : specifies to find only 1 '@' symbol.\n",
    "- \\S : Again specifies to find non-whitespace characters.\n",
    "- \\+ : Find atleast 1 non-white space characters.\n",
    "- [.com] : Find exact match for .com\n",
    "- {1} : Find exactly one occurence for '.com'"
   ]
  },
  {
   "cell_type": "markdown",
   "metadata": {},
   "source": [
    "### Find all occurences"
   ]
  },
  {
   "cell_type": "markdown",
   "metadata": {},
   "source": [
    "if we want to extract all occurences of the provided regex, then we use the *re.findall()* function"
   ]
  },
  {
   "cell_type": "code",
   "execution_count": 13,
   "metadata": {},
   "outputs": [],
   "source": [
    "emails = re.findall('\\S+@{1}\\S+[.com]{1}', txt)"
   ]
  },
  {
   "cell_type": "code",
   "execution_count": 14,
   "metadata": {},
   "outputs": [
    {
     "name": "stdout",
     "output_type": "stream",
     "text": [
      "['jhon.doe@outlook.com.', 'jack_smith12@outlook.com.']\n"
     ]
    }
   ],
   "source": [
    "print(emails)"
   ]
  },
  {
   "cell_type": "markdown",
   "metadata": {},
   "source": [
    "### Substitue Expression"
   ]
  },
  {
   "cell_type": "markdown",
   "metadata": {},
   "source": [
    "We can substitue the given expression with a string of our own using the *re.sub()* function."
   ]
  },
  {
   "cell_type": "code",
   "execution_count": 15,
   "metadata": {},
   "outputs": [],
   "source": [
    "substituted_string = re.sub('\\S+@{1}\\S+[.com]{1}', '', txt) #remove emails from the given text."
   ]
  },
  {
   "cell_type": "code",
   "execution_count": 16,
   "metadata": {},
   "outputs": [
    {
     "name": "stdout",
     "output_type": "stream",
     "text": [
      "We have contacted Mr. Jhon Doe and havbe confirmed that he will be joining us for the meeting this evening. If you would like to contact him yourself you can call him on +1-415-5552671 or email him at  We also have the contact details of his assistant, you can contact him in case Mr. Doe does not respond. The assistants email id is \n"
     ]
    }
   ],
   "source": [
    "print(substituted_string)"
   ]
  },
  {
   "cell_type": "markdown",
   "metadata": {},
   "source": [
    "Job Done!"
   ]
  },
  {
   "cell_type": "markdown",
   "metadata": {},
   "source": [
    "This feature can be used to redact documents. \n",
    "\n",
    "Say we want to remove emails from a text so that no confidentional contact information is exposed.\n",
    "\n",
    "We can simple substitue it with an \\<email\\> tag"
   ]
  },
  {
   "cell_type": "code",
   "execution_count": 17,
   "metadata": {},
   "outputs": [],
   "source": [
    "redacted = re.sub('\\S+@{1}\\S+[.com]{1}', '<email>', txt)"
   ]
  },
  {
   "cell_type": "code",
   "execution_count": 18,
   "metadata": {},
   "outputs": [
    {
     "name": "stdout",
     "output_type": "stream",
     "text": [
      "We have contacted Mr. Jhon Doe and havbe confirmed that he will be joining us for the meeting this evening. If you would like to contact him yourself you can call him on +1-415-5552671 or email him at <email> We also have the contact details of his assistant, you can contact him in case Mr. Doe does not respond. The assistants email id is <email>\n"
     ]
    }
   ],
   "source": [
    "print(redacted)"
   ]
  },
  {
   "cell_type": "markdown",
   "metadata": {},
   "source": [
    "### Multiple expressions in a single line."
   ]
  },
  {
   "cell_type": "markdown",
   "metadata": {},
   "source": [
    "Say we want to find email as well as the time mentioned in the meeting. \n",
    "\n",
    "We can specify an OR expression to tell python to match either expression1 or expression2 or both.\n"
   ]
  },
  {
   "cell_type": "code",
   "execution_count": 19,
   "metadata": {},
   "outputs": [
    {
     "data": {
      "text/plain": [
       "['', '']"
      ]
     },
     "execution_count": 19,
     "metadata": {},
     "output_type": "execute_result"
    }
   ],
   "source": [
    "re.findall('\\S+@{1}\\S+[.com]{1}|@{1}[0-12]{1}([AM]{1}|[PM]{1})', txt)"
   ]
  },
  {
   "cell_type": "code",
   "execution_count": null,
   "metadata": {},
   "outputs": [],
   "source": []
  }
 ],
 "metadata": {
  "kernelspec": {
   "display_name": "Python 3",
   "language": "python",
   "name": "python3"
  },
  "language_info": {
   "codemirror_mode": {
    "name": "ipython",
    "version": 3
   },
   "file_extension": ".py",
   "mimetype": "text/x-python",
   "name": "python",
   "nbconvert_exporter": "python",
   "pygments_lexer": "ipython3",
   "version": "3.7.6"
  }
 },
 "nbformat": 4,
 "nbformat_minor": 5
}
