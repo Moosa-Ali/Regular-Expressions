{
 "cells": [
  {
   "cell_type": "markdown",
   "id": "9696372c",
   "metadata": {},
   "source": [
    "# Regular Expressions in action"
   ]
  },
  {
   "cell_type": "markdown",
   "id": "8123f248",
   "metadata": {},
   "source": [
    "Import the 're' library that helps in resolving regular expressions in Python"
   ]
  },
  {
   "cell_type": "code",
   "execution_count": 3,
   "id": "959a1ce5",
   "metadata": {},
   "outputs": [],
   "source": [
    "import re"
   ]
  },
  {
   "cell_type": "markdown",
   "id": "f1f8f9dd",
   "metadata": {},
   "source": [
    "Regex have the capability to match simple expressions using ordinary characters as well as complex patterns using special characters.\n",
    "\n",
    "- **Ordinary characters include simple alphabets, numbers and symbols.**\n",
    "\n",
    "Ordinary characters are used to get exact matches e.g. if you wanted to wanted to find the occurences of the term 'Python' in some text then your regex would be -->'*Python*'.\n",
    "\n",
    "- **Special characters allow you to create generic pattern in text that are more like a 'Closest match'.**\n",
    "\n",
    "For example if you want to match an email address then you cannot specify an exact match since people have a different emails. However there is a pattern that you can use to your benefit. proper emails will always have an '**@**' symbol in the middle and end with '**.com**'. Let's see how we can find this pattern.\n"
   ]
  },
  {
   "cell_type": "markdown",
   "id": "41009c79",
   "metadata": {},
   "source": [
    "Generate some random text"
   ]
  },
  {
   "cell_type": "code",
   "execution_count": 4,
   "id": "54e38bfc",
   "metadata": {},
   "outputs": [],
   "source": [
    "#random text with emails\n",
    "txt ='''Hello from shubhamg199630@gmail.com \n",
    "to priya@yahoo.com about the meeting @2PM'''"
   ]
  },
  {
   "cell_type": "markdown",
   "id": "8604b119",
   "metadata": {},
   "source": [
    "To find the provided pattern we use the *re.search()* function."
   ]
  },
  {
   "cell_type": "code",
   "execution_count": 5,
   "id": "8b5b1750",
   "metadata": {},
   "outputs": [],
   "source": [
    "plain_text = re.search('Hello', txt) #find the word hello in the above text"
   ]
  },
  {
   "cell_type": "markdown",
   "id": "fb62ead3",
   "metadata": {},
   "source": [
    "to find the word 'Hello' we simply used it as an expression.\n",
    "\n",
    "the *re.seach()* function returns the first occurence of th eprovided expresssion as well as its indexes."
   ]
  },
  {
   "cell_type": "code",
   "execution_count": 9,
   "id": "9362ee6f",
   "metadata": {},
   "outputs": [
    {
     "data": {
      "text/plain": [
       "<re.Match object; span=(0, 5), match='Hello'>"
      ]
     },
     "execution_count": 9,
     "metadata": {},
     "output_type": "execute_result"
    }
   ],
   "source": [
    "plain_text #print out the result"
   ]
  },
  {
   "cell_type": "code",
   "execution_count": 10,
   "id": "5f6755eb",
   "metadata": {},
   "outputs": [
    {
     "name": "stdout",
     "output_type": "stream",
     "text": [
      "Hello\n"
     ]
    }
   ],
   "source": [
    "print(plain_text[0]) #print just the match"
   ]
  },
  {
   "cell_type": "markdown",
   "id": "3b246191",
   "metadata": {},
   "source": [
    "Now lets try a more complex pattern and find the email addresses in the text"
   ]
  },
  {
   "cell_type": "code",
   "execution_count": 12,
   "id": "1d008d55",
   "metadata": {},
   "outputs": [],
   "source": [
    "email = re.search('\\S+@{1}\\S+[.com]{1}',txt) #regex to find an email address"
   ]
  },
  {
   "cell_type": "code",
   "execution_count": 14,
   "id": "3c761b9f",
   "metadata": {},
   "outputs": [
    {
     "name": "stdout",
     "output_type": "stream",
     "text": [
      "<re.Match object; span=(11, 35), match='shubhamg199630@gmail.com'>\n"
     ]
    }
   ],
   "source": [
    "print(email)"
   ]
  },
  {
   "cell_type": "code",
   "execution_count": null,
   "id": "f72cb3e4",
   "metadata": {},
   "outputs": [],
   "source": []
  }
 ],
 "metadata": {
  "kernelspec": {
   "display_name": "Python 3",
   "language": "python",
   "name": "python3"
  },
  "language_info": {
   "codemirror_mode": {
    "name": "ipython",
    "version": 3
   },
   "file_extension": ".py",
   "mimetype": "text/x-python",
   "name": "python",
   "nbconvert_exporter": "python",
   "pygments_lexer": "ipython3",
   "version": "3.8.8"
  }
 },
 "nbformat": 4,
 "nbformat_minor": 5
}
