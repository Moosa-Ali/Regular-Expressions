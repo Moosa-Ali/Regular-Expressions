{
 "cells": [
  {
   "cell_type": "markdown",
   "id": "9696372c",
   "metadata": {},
   "source": [
    "# Regular Expressions in action"
   ]
  },
  {
   "cell_type": "markdown",
   "id": "8123f248",
   "metadata": {},
   "source": [
    "Import the 're' library that helps in resolving regular expressions in Python"
   ]
  },
  {
   "cell_type": "code",
   "execution_count": 3,
   "id": "959a1ce5",
   "metadata": {},
   "outputs": [],
   "source": [
    "import re"
   ]
  },
  {
   "cell_type": "markdown",
   "id": "f1f8f9dd",
   "metadata": {},
   "source": [
    "Regex have the capability to match simple expressions using ordinary characters as well as complex patterns using special characters.\n",
    "\n",
    "- **Ordinary characters include simple alphabets, numbers and symbols.**\n",
    "\n",
    "Ordinary characters are used to get exact matches e.g. if you wanted to wanted to find the occurences of the term 'Python' in some text then your regex would be -->'*Python*'.\n",
    "\n",
    "- **Special characters allow you to create generic pattern in text that are more like a 'Closest match'.**\n",
    "\n",
    "For example if you want to match an email address then you cannot specify an exact match since people have a different emails. However there is a pattern that you can use to your benefit. proper emails will always have an '**@**' symbol in the middle and end with '**.com**'. Let's see how we can find this pattern.\n"
   ]
  },
  {
   "cell_type": "markdown",
   "id": "45d037a4",
   "metadata": {},
   "source": [
    "Generate some random text"
   ]
  },
  {
   "cell_type": "code",
   "execution_count": 4,
   "id": "54e38bfc",
   "metadata": {},
   "outputs": [],
   "source": [
    "#random text with emails\n",
    "txt ='''Hello from shubhamg199630@gmail.com \n",
    "to priya@yahoo.com about the meeting @2PM'''"
   ]
  },
  {
   "cell_type": "markdown",
   "id": "cac703fd",
   "metadata": {},
   "source": [
    "To find the provided pattern we use the *re.search()* function."
   ]
  },
  {
   "cell_type": "code",
   "execution_count": 5,
   "id": "9b93d05f",
   "metadata": {},
   "outputs": [],
   "source": [
    "plain_text = re.search('Hello', txt) #find the word hello in the above text"
   ]
  },
  {
   "cell_type": "markdown",
   "id": "377faf66",
   "metadata": {},
   "source": [
    "to find the word 'Hello' we simply used it as an expression.\n",
    "\n",
    "the *re.seach()* function returns the first occurence of th eprovided expresssion as well as its indexes."
   ]
  },
  {
   "cell_type": "code",
   "execution_count": 9,
   "id": "ba8a1f39",
   "metadata": {},
   "outputs": [
    {
     "data": {
      "text/plain": [
       "<re.Match object; span=(0, 5), match='Hello'>"
      ]
     },
     "execution_count": 9,
     "metadata": {},
     "output_type": "execute_result"
    }
   ],
   "source": [
    "plain_text #print out the result"
   ]
  },
  {
   "cell_type": "code",
   "execution_count": 20,
   "id": "8b7d94ff",
   "metadata": {},
   "outputs": [
    {
     "name": "stdout",
     "output_type": "stream",
     "text": [
      "Hello\n"
     ]
    }
   ],
   "source": [
    "print(plain_text.group()) #print just the match"
   ]
  },
  {
   "cell_type": "code",
   "execution_count": 21,
   "id": "34c2db50",
   "metadata": {},
   "outputs": [
    {
     "name": "stdout",
     "output_type": "stream",
     "text": [
      "(0, 5)\n"
     ]
    }
   ],
   "source": [
    "print(plain_text.span()) #print indexes where the match was found"
   ]
  },
  {
   "cell_type": "markdown",
   "id": "626ee3db",
   "metadata": {},
   "source": [
    "Now lets try a more complex pattern and find the email addresses in the text"
   ]
  },
  {
   "cell_type": "code",
   "execution_count": 12,
   "id": "1d008d55",
   "metadata": {},
   "outputs": [],
   "source": [
    "email = re.search('\\S+@{1}\\S+[.com]{1}',txt) #regex to find an email address"
   ]
  },
  {
   "cell_type": "code",
   "execution_count": 14,
   "id": "3c761b9f",
   "metadata": {},
   "outputs": [
    {
     "name": "stdout",
     "output_type": "stream",
     "text": [
      "<re.Match object; span=(11, 35), match='shubhamg199630@gmail.com'>\n"
     ]
    }
   ],
   "source": [
    "print(email) #found the first occuring email"
   ]
  },
  {
   "cell_type": "markdown",
   "id": "971ff613",
   "metadata": {},
   "source": [
    "let's understand the regex a little bit.\n",
    "\n",
    "- \\S : Finds a non-whitespace character\n",
    "- \\+ : Specifies to find 1 or more non-whitespace occurences\n",
    "- @ : Exact match, specifies to find a '@' symbol.\n",
    "- {1} : specifies to find only 1 '@' symbol.\n",
    "- \\S : Again specifies to find non-whitespace characters.\n",
    "- \\+ : Find atleast 1 non-white space characters.\n",
    "- [.com] : Find exact match for .com\n",
    "- {1} : Find exactly one occurence for '.com'"
   ]
  },
  {
   "cell_type": "markdown",
   "id": "0535c200",
   "metadata": {},
   "source": [
    "### Find all occurences"
   ]
  },
  {
   "cell_type": "markdown",
   "id": "59da0314",
   "metadata": {},
   "source": [
    "if we want to extract all occurences of the provided regex, then we use the *re.findall()* function"
   ]
  },
  {
   "cell_type": "code",
   "execution_count": 17,
   "id": "5aac2c46",
   "metadata": {},
   "outputs": [],
   "source": [
    "emails = re.findall('\\S+@{1}\\S+[.com]{1}', txt)"
   ]
  },
  {
   "cell_type": "code",
   "execution_count": 18,
   "id": "82220799",
   "metadata": {},
   "outputs": [
    {
     "name": "stdout",
     "output_type": "stream",
     "text": [
      "['shubhamg199630@gmail.com', 'priya@yahoo.com']\n"
     ]
    }
   ],
   "source": [
    "print(emails)"
   ]
  },
  {
   "cell_type": "markdown",
   "id": "a0991c52",
   "metadata": {},
   "source": [
    "### Substitue Expression"
   ]
  },
  {
   "cell_type": "markdown",
   "id": "f3908572",
   "metadata": {},
   "source": [
    "We can substitue the given expression with a string of our own using the *re.sub()* function."
   ]
  },
  {
   "cell_type": "code",
   "execution_count": 22,
   "id": "4e041cfd",
   "metadata": {},
   "outputs": [],
   "source": [
    "substituted_string = re.sub('\\S+@{1}\\S+[.com]{1}', '', txt) #remove emails from the given text."
   ]
  },
  {
   "cell_type": "code",
   "execution_count": 23,
   "id": "3eabc1ac",
   "metadata": {},
   "outputs": [
    {
     "name": "stdout",
     "output_type": "stream",
     "text": [
      "Hello from  \n",
      "to  about the meeting @2PM\n"
     ]
    }
   ],
   "source": [
    "print(substituted_string)"
   ]
  },
  {
   "cell_type": "markdown",
   "id": "6be96a96",
   "metadata": {},
   "source": [
    "Job Done!"
   ]
  },
  {
   "cell_type": "markdown",
   "id": "e99a19a7",
   "metadata": {},
   "source": [
    "This feature can be used to redact documents. \n",
    "\n",
    "Say we want to remove emails from a text so that no confidentional contact information is exposed.\n",
    "\n",
    "We can simple substitue it with an \\<email\\> tag"
   ]
  },
  {
   "cell_type": "code",
   "execution_count": 24,
   "id": "42725281",
   "metadata": {},
   "outputs": [],
   "source": [
    "redacted = re.sub('\\S+@{1}\\S+[.com]{1}', '<email>', txt)"
   ]
  },
  {
   "cell_type": "code",
   "execution_count": 25,
   "id": "bed8a2f2",
   "metadata": {},
   "outputs": [
    {
     "name": "stdout",
     "output_type": "stream",
     "text": [
      "Hello from <email> \n",
      "to <email> about the meeting @2PM\n"
     ]
    }
   ],
   "source": [
    "print(redacted)"
   ]
  },
  {
   "cell_type": "markdown",
   "id": "1d4b0c3a",
   "metadata": {},
   "source": [
    "### Multiple expressions in a single line."
   ]
  },
  {
   "cell_type": "markdown",
   "id": "6e12cbc4",
   "metadata": {},
   "source": [
    "Say we want to find email as well as the time mentioned in the meeting. \n",
    "\n",
    "We can specify an OR expression to tell python to match either expression1 or expression2 or both.\n"
   ]
  },
  {
   "cell_type": "code",
   "execution_count": 27,
   "id": "024516ee",
   "metadata": {},
   "outputs": [
    {
     "data": {
      "text/plain": [
       "['', '', 'P']"
      ]
     },
     "execution_count": 27,
     "metadata": {},
     "output_type": "execute_result"
    }
   ],
   "source": [
    "re.findall('\\S+@{1}\\S+[.com]{1}|@{1}[0-12]{1}([AM]{1}|[PM]{1})', txt)"
   ]
  },
  {
   "cell_type": "code",
   "execution_count": null,
   "id": "32b953da",
   "metadata": {},
   "outputs": [],
   "source": []
  }
 ],
 "metadata": {
  "kernelspec": {
   "display_name": "Python 3",
   "language": "python",
   "name": "python3"
  },
  "language_info": {
   "codemirror_mode": {
    "name": "ipython",
    "version": 3
   },
   "file_extension": ".py",
   "mimetype": "text/x-python",
   "name": "python",
   "nbconvert_exporter": "python",
   "pygments_lexer": "ipython3",
   "version": "3.8.8"
  }
 },
 "nbformat": 4,
 "nbformat_minor": 5
}
